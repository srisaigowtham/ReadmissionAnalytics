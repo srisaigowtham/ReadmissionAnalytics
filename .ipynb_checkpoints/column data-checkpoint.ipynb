{
 "cells": [
  {
   "cell_type": "code",
   "execution_count": null,
   "metadata": {},
   "outputs": [],
   "source": [
    "import pandas as pd\n",
    "import numpy as np\n",
    "\n",
    "datain_dir = \"~/Desktop/python/Data Mining Project/ReadmissionAnalytics/\"\n",
    "df_raw = pd.read_csv(datain_dir + \"diabetic_data.csv\")\n",
    "\n",
    "df_raw = df_raw.replace('?', np.nan)\n",
    "\n",
    "# Column details\n",
    "col_data = df_raw.apply(lambda s: set(s.unique()), axis=0).to_frame('uni_val')\n",
    "col_data['nan_rat'] = df_raw.isnull().sum(axis=0)/len(df_raw)\n",
    "col_data['n_uni_vals'] = col_data.uni_val.apply(len)\n",
    "col_data['uni_vals_str'] = col_data.uni_val.astype(str)\n",
    "col_data = col_data.drop('uni_val', axis=1)\n",
    "\n",
    "# Only 1 unique value present for all rows in column\n",
    "col_data.loc[col_data['n_uni_vals']==1,'var_type'] = 'drop'\n",
    "# Doesn't give any useful information\n",
    "col_data.loc[['encounter_id'],['var_type']] = 'drop'\n",
    "col_data.loc[['patient_nbr'],['var_type']] = 'drop'\n",
    "col_data.loc[['payer_code'],['var_type']] = 'drop'\n",
    "# Remove weight column as most of the values are empty\n",
    "col_data.loc[['weight'],['var_type']] = 'drop'\n",
    "# Remove Speciality column as we already converted each value to true false columns\n",
    "col_data.loc[['medical_specialty'],['var_type']] = 'drop'\n",
    "# Remove diagnosis columns as we already convertd each value to true false columns\n",
    "col_data.loc[['diag_1'],['var_type']] = 'drop'\n",
    "col_data.loc[['diag_2'],['var_type']] = 'drop'\n",
    "col_data.loc[['diag_3'],['var_type']] = 'drop'\n",
    "\n",
    "col_data.loc[['num_procedures'],['var_type']] = 'cont'\n",
    "col_data.loc[['age'],['var_type']] = 'cont'\n",
    "col_data.loc[['time_in_hospital'],['var_type']] = 'cont'\n",
    "col_data.loc[['number_emergency'],['var_type']] = 'cont'\n",
    "col_data.loc[['number_inpatient'],['var_type']] = 'cont'\n",
    "col_data.loc[['number_diagnoses'],['var_type']] = 'cont'\n",
    "col_data.loc[['number_outpatient'],['var_type']] = 'cont'\n",
    "col_data.loc[['num_medications'],['var_type']] = 'cont'\n",
    "col_data.loc[['num_lab_procedures'],['var_type']] = 'cont'\n",
    "\n",
    "col_data.loc[['readmitted'],['var_type']] = 'class'\n",
    "\n",
    "col_data.loc[col_data.var_type.isnull(),'var_type'] = 'cat'\n",
    "col_data"
   ]
  },
  {
   "cell_type": "code",
   "execution_count": null,
   "metadata": {},
   "outputs": [],
   "source": []
  }
 ],
 "metadata": {
  "kernelspec": {
   "display_name": "Python 2",
   "language": "python",
   "name": "python2"
  },
  "language_info": {
   "codemirror_mode": {
    "name": "ipython",
    "version": 2
   },
   "file_extension": ".py",
   "mimetype": "text/x-python",
   "name": "python",
   "nbconvert_exporter": "python",
   "pygments_lexer": "ipython2",
   "version": "2.7.15"
  }
 },
 "nbformat": 4,
 "nbformat_minor": 2
}
