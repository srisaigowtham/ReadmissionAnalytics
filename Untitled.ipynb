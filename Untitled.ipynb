{
 "cells": [
  {
   "cell_type": "code",
   "execution_count": 1,
   "metadata": {},
   "outputs": [],
   "source": [
    "import pandas as pd\n",
    "import numpy as np\n",
    "\n",
    "datain_dir = \"~/Desktop/python/Data Mining Project/ReadmissionAnalytics/\"\n",
    "df_raw = pd.read_csv(datain_dir + \"diabetic_data.csv\")\n",
    "\n",
    "df_raw = df_raw.replace('?', np.nan)\n",
    "\n",
    "# Consider only one encounter per patient. Our goal is to avoid future visits, so we will avoid future encounters for patients in our data\n",
    "df_raw.drop_duplicates(subset=['patient_nbr'], inplace=True)\n",
    "\n",
    "df_raw.race.fillna('Missing', inplace=True)\n",
    "\n",
    "# Remove unknown gender encounters; very rare\n",
    "df_raw.drop(df_raw[df_raw.gender == 'Unknown/Invalid'].index, inplace=True)\n",
    "\n",
    "# Modifying age variable to upper limit\n",
    "df_raw['age'] = df_raw.age.str.extract('\\d+-(\\d+)')\n",
    "df_raw['age'] = map(int, df_raw['age'])\n",
    "\n",
    "# Remove encounters that resulted in hospice care or death to avoid skewing results\n",
    "df_raw.drop(df_raw[df_raw.discharge_disposition_id == 11].index, inplace=True)\n",
    "df_raw.drop(df_raw[df_raw.discharge_disposition_id == 13].index, inplace=True)\n",
    "df_raw.drop(df_raw[df_raw.discharge_disposition_id == 14].index, inplace=True)\n",
    "df_raw.drop(df_raw[df_raw.discharge_disposition_id == 19].index, inplace=True)\n",
    "df_raw.drop(df_raw[df_raw.discharge_disposition_id == 20].index, inplace=True)\n",
    "df_raw.drop(df_raw[df_raw.discharge_disposition_id == 21].index, inplace=True)\n",
    "\n",
    "df_raw.medical_specialty.fillna('Missing', inplace=True)\n",
    "# Medical speciality reducing grouping variable values with less than 3.5% values to Otherwise\n",
    "df_raw.loc[((df_raw.medical_specialty != 'Missing') & (df_raw.medical_specialty != 'InternalMedicine') & (df_raw.medical_specialty != 'Family/GeneralPractice') & (df_raw.medical_specialty != 'Emergency/Trauma') & (df_raw.medical_specialty != 'Cardiology')),'medical_specialty'] = 'Otherwise'\n",
    "\n",
    "# Discharged to home or discharged to other facilities with medical care\n",
    "df_raw.loc[(df_raw.discharge_disposition_id == 1),'discharge_disposition_id'] = 'Discharged to home'\n",
    "df_raw.loc[(df_raw.discharge_disposition_id != 'Discharged to home'),'discharge_disposition_id'] = 'Otherwise'\n",
    "\n",
    "# Admission source: Emergency or Physician/Clinic referral or Otherwise\n",
    "df_raw.loc[(df_raw.admission_source_id == 7),'admission_source_id'] = 'Admitted from emergency room'\n",
    "df_raw.loc[(df_raw.admission_source_id == 1),'admission_source_id'] = 'Admitted because of physician/clinic referral'\n",
    "df_raw.loc[(df_raw.admission_source_id == 2),'admission_source_id'] = 'Admitted because of physician/clinic referral'\n",
    "df_raw.loc[((df_raw.admission_source_id != 'Admitted from emergency room') & (df_raw.admission_source_id != 'Admitted because of physician/clinic referral')),'admission_source_id'] = 'Otherwise'\n",
    "\n",
    "# diag_1 represents primary diagnosis, this is the preliminary analysis of a patient. Initially the patient maybe identified with other diseases but later in diag_2 or diag_3, the disease may be determined as diabetes. Our goal is to predict the readmission after primary diagnosis, so diag_2 and diag_3 are not relevant to us.\n",
    "\n",
    "df_raw.loc[(((df_raw.diag_1>=str(390)) & (df_raw.diag_1<=str(459))) | (df_raw.diag_1==str(785))), 'PrimaryDiagnosis'] = 'Circulatory'\n",
    "df_raw.loc[(((df_raw.diag_1>=str(460)) & (df_raw.diag_1<=str(519))) | (df_raw.diag_1==str(786))), 'PrimaryDiagnosis'] = 'Respiratory'\n",
    "df_raw.loc[(((df_raw.diag_1>=str(520)) & (df_raw.diag_1<=str(579))) | (df_raw.diag_1==str(787))), 'PrimaryDiagnosis'] = 'Digestive'\n",
    "df_raw.loc[(df_raw.diag_1.str.contains('250', na=False)), 'PrimaryDiagnosis'] = 'Diabetes'\n",
    "df_raw.loc[((df_raw.diag_1>=str(800)) & (df_raw.diag_1<=str(999))), 'PrimaryDiagnosis'] = 'Injury'\n",
    "df_raw.loc[((df_raw.diag_1>=str(710)) & (df_raw.diag_1<=str(739))), 'PrimaryDiagnosis'] = 'Musculoskeletal'\n",
    "df_raw.loc[(((df_raw.diag_1>=str(580)) & (df_raw.diag_1<=str(629))) | (df_raw.diag_1==str(788))), 'PrimaryDiagnosis'] = 'Genitourinary'\n",
    "df_raw.loc[((df_raw.diag_1>=str(140)) & (df_raw.diag_1<=str(239))), 'PrimaryDiagnosis'] = 'Neoplasms'\n",
    "df_raw.PrimaryDiagnosis.fillna('Other', inplace=True)\n",
    "\n",
    "# In order to make the problem binary, Readmitted column is modified as Yes for <30 and No for >30\n",
    "df_raw.loc[(df_raw.readmitted == '<30'),'readmitted'] = 1\n",
    "df_raw.loc[(df_raw.readmitted == '>30'),'readmitted'] = 0\n",
    "df_raw.loc[(df_raw.readmitted == 'NO'),'readmitted'] = 0\n",
    "\n",
    "# Column details\n",
    "col_data = df_raw.apply(lambda s: set(s.unique()), axis=0).to_frame('uni_val')\n",
    "col_data['nan_rat'] = df_raw.isnull().sum(axis=0)/len(df_raw)\n",
    "col_data['n_uni_vals'] = col_data.uni_val.apply(len)\n",
    "col_data['uni_vals_str'] = col_data.uni_val.astype(str)\n",
    "col_data = col_data.drop('uni_val', axis=1)\n",
    "\n",
    "# Only 1 unique value present for all rows in column\n",
    "col_data.loc[col_data['n_uni_vals']==1,'var_type'] = 'drop'\n",
    "# Doesn't give any useful information\n",
    "col_data.loc[['encounter_id'],['var_type']] = 'drop'\n",
    "col_data.loc[['patient_nbr'],['var_type']] = 'drop'\n",
    "col_data.loc[['payer_code'],['var_type']] = 'drop'\n",
    "# Remove weight column as most of the values are empty\n",
    "col_data.loc[['weight'],['var_type']] = 'drop'\n",
    "# Remove diagnosis columns as we already classified each value appropriately\n",
    "col_data.loc[['diag_1'],['var_type']] = 'drop'\n",
    "col_data.loc[['diag_2'],['var_type']] = 'drop'\n",
    "col_data.loc[['diag_3'],['var_type']] = 'drop'\n",
    "\n",
    "col_data.loc[['num_procedures'],['var_type']] = 'cont'\n",
    "col_data.loc[['age'],['var_type']] = 'cont'\n",
    "col_data.loc[['time_in_hospital'],['var_type']] = 'cont'\n",
    "col_data.loc[['number_emergency'],['var_type']] = 'cont'\n",
    "col_data.loc[['number_inpatient'],['var_type']] = 'cont'\n",
    "col_data.loc[['number_diagnoses'],['var_type']] = 'cont'\n",
    "col_data.loc[['number_outpatient'],['var_type']] = 'cont'\n",
    "col_data.loc[['num_medications'],['var_type']] = 'cont'\n",
    "col_data.loc[['num_lab_procedures'],['var_type']] = 'cont'\n",
    "\n",
    "col_data.loc[['readmitted'],['var_type']] = 'class'\n",
    "\n",
    "col_data.loc[col_data.var_type.isnull(),'var_type'] = 'cat'\n",
    "\n",
    "# Create a copy of data\n",
    "df_raw2 = pd.DataFrame(df_raw, copy=True)\n",
    "\n",
    "#Drop patient id and encounter id columns as they are not relevant to us\n",
    "#df_raw.drop(['encounter_id','patient_nbr'], axis=1, inplace=True)\n",
    "\n",
    "# Remove weight column as most of the values are empty\n",
    "#df_raw.drop(['weight'], axis=1, inplace=True)\n",
    "\n",
    "# Doesn't give any useful information\n",
    "#df_raw.drop(['payer_code'], axis=1, inplace=True)\n",
    "\n",
    "# Drop diag_1, diag_2, diag_3 columns as they are no longer needed\n",
    "#df_raw.drop(['diag_1','diag_2','diag_3'], axis=1, inplace=True)\n",
    "\n",
    "to_drop = col_data[col_data.var_type.str.contains('drop')].index\n",
    "df_raw.drop(to_drop, axis=1, inplace=True)\n",
    "df_raw2.drop(to_drop, axis=1, inplace=True)\n",
    "\n",
    "# Create binarized columns of variables\n",
    "cat_cols = col_data[col_data.var_type.str.contains('cat')].index\n",
    "df_raw2 = pd.get_dummies(df_raw2, columns=cat_cols)\n",
    "\n",
    "# Final dataframe\n",
    "#df = pd.DataFrame(df_raw, copy=True) #Use this for categorical columns\n",
    "#df = pd.DataFrame(df_raw2, copy=True) #Use this for all binarized values of categorical columns\n",
    "df = df_raw.filter(['race','gender','age','discharge_disposition_id','admission_source_id','time_in_hospital','medical_specialty','PrimaryDiagnosis','A1Cresult','readmitted'],axis=1)\n",
    "\n",
    "# Create binarized columns of variables\n",
    "cat_cols = ['race','gender','discharge_disposition_id','admission_source_id','medical_specialty','PrimaryDiagnosis','A1Cresult']\n",
    "df = pd.get_dummies(df, columns=cat_cols)\n",
    "\n",
    "#Moving class label to the end\n",
    "classLabel = df.pop('readmitted')\n",
    "df['readmitted'] = classLabel"
   ]
  },
  {
   "cell_type": "code",
   "execution_count": 4,
   "metadata": {
    "scrolled": true
   },
   "outputs": [
    {
     "data": {
      "text/plain": [
       "Index([u'race', u'gender', u'age', u'admission_type_id',\n",
       "       u'discharge_disposition_id', u'admission_source_id',\n",
       "       u'time_in_hospital', u'medical_specialty', u'num_lab_procedures',\n",
       "       u'num_procedures', u'num_medications', u'number_outpatient',\n",
       "       u'number_emergency', u'number_inpatient', u'number_diagnoses',\n",
       "       u'max_glu_serum', u'A1Cresult', u'metformin', u'repaglinide',\n",
       "       u'nateglinide', u'chlorpropamide', u'glimepiride', u'acetohexamide',\n",
       "       u'glipizide', u'glyburide', u'tolbutamide', u'pioglitazone',\n",
       "       u'rosiglitazone', u'acarbose', u'miglitol', u'troglitazone',\n",
       "       u'tolazamide', u'insulin', u'glyburide-metformin',\n",
       "       u'glipizide-metformin', u'metformin-rosiglitazone',\n",
       "       u'metformin-pioglitazone', u'change', u'diabetesMed', u'readmitted',\n",
       "       u'PrimaryDiagnosis'],\n",
       "      dtype='object')"
      ]
     },
     "execution_count": 4,
     "metadata": {},
     "output_type": "execute_result"
    }
   ],
   "source": [
    "df_raw.columns"
   ]
  },
  {
   "cell_type": "code",
   "execution_count": 5,
   "metadata": {},
   "outputs": [],
   "source": [
    "X = df.loc[:, df.columns != 'readmitted']\n",
    "y = df.loc[:, df.columns == 'readmitted']"
   ]
  },
  {
   "cell_type": "code",
   "execution_count": null,
   "metadata": {},
   "outputs": [],
   "source": [
    "from sklearn import preprocessing\n",
    "from sklearn.linear_model import LogisticRegression\n",
    "from sklearn.cross_validation import train_test_split\n",
    "from imblearn.over_sampling import SMOTE\n",
    "os = SMOTE(random_state=0)\n",
    "X_train, X_test, y_train, y_test = train_test_split(X, y, test_size=0.3, random_state=0)\n",
    "columns = X_train.columns"
   ]
  },
  {
   "cell_type": "code",
   "execution_count": null,
   "metadata": {},
   "outputs": [],
   "source": [
    "os_data_X,os_data_y=os.fit_sample(X_train, y_train)\n",
    "os_data_X = pd.DataFrame(data=os_data_X,columns=columns )\n",
    "os_data_y= pd.DataFrame(data=os_data_y,columns=['readmitted'])"
   ]
  },
  {
   "cell_type": "code",
   "execution_count": 185,
   "metadata": {},
   "outputs": [
    {
     "name": "stdout",
     "output_type": "stream",
     "text": [
      "('length of oversampled data is ', 89040)\n",
      "('Number of no admits in oversampled data', 44520)\n",
      "('Number of admits', 44520)\n",
      "('Proportion of no admits data in oversampled data is ', 0.5)\n",
      "('Proportion of admits data in oversampled data is ', 0.5)\n"
     ]
    }
   ],
   "source": [
    "print(\"length of oversampled data is \",len(os_data_X))\n",
    "print(\"Number of no admits in oversampled data\",len(os_data_y[os_data_y['readmitted']==0]))\n",
    "print(\"Number of admits\",len(os_data_y[os_data_y['readmitted']==1]))\n",
    "print(\"Proportion of no admits data in oversampled data is \",float(len(os_data_y[os_data_y['readmitted']==0]))/len(os_data_X))\n",
    "print(\"Proportion of admits data in oversampled data is \",float(len(os_data_y[os_data_y['readmitted']==1]))/len(os_data_X))"
   ]
  },
  {
   "cell_type": "code",
   "execution_count": 186,
   "metadata": {},
   "outputs": [],
   "source": [
    "data_final_vars=df.columns.values.tolist()\n",
    "y=['readmitted']\n",
    "X=[i for i in data_final_vars if i not in y]\n",
    "from sklearn.feature_selection import RFE\n",
    "from sklearn.linear_model import LogisticRegression\n",
    "logreg = LogisticRegression()\n",
    "rfe = RFE(logreg, 20)\n",
    "rfe = rfe.fit(os_data_X, os_data_y.values.ravel())"
   ]
  },
  {
   "cell_type": "code",
   "execution_count": 187,
   "metadata": {},
   "outputs": [],
   "source": [
    "final_column_list = []\n",
    "for index in np.where(rfe.support_ == True)[0]:\n",
    "    final_column_list.append(os_data_X.columns[index])"
   ]
  },
  {
   "cell_type": "code",
   "execution_count": 188,
   "metadata": {},
   "outputs": [
    {
     "data": {
      "text/plain": [
       "['gender_Female',\n",
       " 'gender_Male',\n",
       " 'admission_source_id_Admitted because of physician/clinic referral',\n",
       " 'admission_source_id_Admitted from emergency room',\n",
       " 'admission_source_id_Otherwise',\n",
       " 'medical_specialty_Cardiology',\n",
       " 'medical_specialty_Emergency/Trauma',\n",
       " 'medical_specialty_Family/GeneralPractice',\n",
       " 'medical_specialty_InternalMedicine',\n",
       " 'medical_specialty_Missing',\n",
       " 'medical_specialty_Otherwise',\n",
       " 'PrimaryDiagnosis_Circulatory',\n",
       " 'PrimaryDiagnosis_Diabetes',\n",
       " 'PrimaryDiagnosis_Digestive',\n",
       " 'PrimaryDiagnosis_Genitourinary',\n",
       " 'PrimaryDiagnosis_Injury',\n",
       " 'PrimaryDiagnosis_Musculoskeletal',\n",
       " 'PrimaryDiagnosis_Neoplasms',\n",
       " 'PrimaryDiagnosis_Other',\n",
       " 'PrimaryDiagnosis_Respiratory']"
      ]
     },
     "execution_count": 188,
     "metadata": {},
     "output_type": "execute_result"
    }
   ],
   "source": [
    "final_column_list"
   ]
  },
  {
   "cell_type": "code",
   "execution_count": 189,
   "metadata": {},
   "outputs": [],
   "source": [
    "X=os_data_X[final_column_list]\n",
    "y=os_data_y['readmitted']"
   ]
  },
  {
   "cell_type": "code",
   "execution_count": 190,
   "metadata": {},
   "outputs": [
    {
     "name": "stdout",
     "output_type": "stream",
     "text": [
      "Optimization terminated successfully.\n",
      "         Current function value: 0.594975\n",
      "         Iterations 6\n",
      "                                                  Results: Logit\n",
      "==================================================================================================================\n",
      "Model:                              Logit                            Pseudo R-squared:                 0.142      \n",
      "Dependent Variable:                 readmitted                       AIC:                              105993.1254\n",
      "Date:                               2018-11-05 02:10                 BIC:                              106181.0622\n",
      "No. Observations:                   89040                            Log-Likelihood:                   -52977.    \n",
      "Df Model:                           19                               LL-Null:                          -61718.    \n",
      "Df Residuals:                       89020                            LLR p-value:                      0.0000     \n",
      "Converged:                          1.0000                           Scale:                            1.0000     \n",
      "No. Iterations:                     6.0000                                                                        \n",
      "------------------------------------------------------------------------------------------------------------------\n",
      "                                                                   Coef.  Std.Err.    z     P>|z|   [0.025  0.975]\n",
      "------------------------------------------------------------------------------------------------------------------\n",
      "gender_Female                                                      2.3967   0.0363  66.0449 0.0000  2.3256  2.4678\n",
      "gender_Male                                                        2.3189   0.0366  63.4095 0.0000  2.2473  2.3906\n",
      "admission_source_id_Admitted because of physician/clinic referral  0.1619   0.0312   5.1825 0.0000  0.1007  0.2232\n",
      "admission_source_id_Admitted from emergency room                   0.3608   0.0296  12.2087 0.0000  0.3029  0.4187\n",
      "admission_source_id_Otherwise                                     -0.1441   0.0355  -4.0591 0.0000 -0.2137 -0.0745\n",
      "medical_specialty_Cardiology                                      -1.7607   0.0442 -39.8339 0.0000 -1.8474 -1.6741\n",
      "medical_specialty_Emergency/Trauma                                -1.8338   0.0439 -41.8129 0.0000 -1.9197 -1.7478\n",
      "medical_specialty_Family/GeneralPractice                          -1.5149   0.0407 -37.2266 0.0000 -1.5946 -1.4351\n",
      "medical_specialty_InternalMedicine                                -1.2212   0.0310 -39.4032 0.0000 -1.2820 -1.1605\n",
      "medical_specialty_Missing                                         -0.8944   0.0256 -34.9121 0.0000 -0.9446 -0.8442\n",
      "medical_specialty_Otherwise                                       -1.1599   0.0315 -36.8373 0.0000 -1.2216 -1.0982\n",
      "PrimaryDiagnosis_Circulatory                                      -1.5375   0.0258 -59.6586 0.0000 -1.5880 -1.4869\n",
      "PrimaryDiagnosis_Diabetes                                         -2.0938   0.0360 -58.1799 0.0000 -2.1644 -2.0233\n",
      "PrimaryDiagnosis_Digestive                                        -2.4730   0.0368 -67.2583 0.0000 -2.5450 -2.4009\n",
      "PrimaryDiagnosis_Genitourinary                                    -2.6579   0.0483 -55.0542 0.0000 -2.7525 -2.5633\n",
      "PrimaryDiagnosis_Injury                                           -1.9300   0.0373 -51.7549 0.0000 -2.0031 -1.8569\n",
      "PrimaryDiagnosis_Musculoskeletal                                  -1.9864   0.0413 -48.1381 0.0000 -2.0673 -1.9055\n",
      "PrimaryDiagnosis_Neoplasms                                        -2.6192   0.0561 -46.6951 0.0000 -2.7291 -2.5093\n",
      "PrimaryDiagnosis_Other                                            -1.9555   0.0290 -67.4314 0.0000 -2.0123 -1.8986\n",
      "PrimaryDiagnosis_Respiratory                                      -2.3298   0.0323 -72.0832 0.0000 -2.3931 -2.2664\n",
      "==================================================================================================================\n",
      "\n"
     ]
    }
   ],
   "source": [
    "import statsmodels.api as sm\n",
    "logit_model=sm.Logit(y,X)\n",
    "result=logit_model.fit()\n",
    "print(result.summary2())"
   ]
  },
  {
   "cell_type": "code",
   "execution_count": 191,
   "metadata": {},
   "outputs": [
    {
     "data": {
      "text/plain": [
       "LogisticRegression(C=1.0, class_weight=None, dual=False, fit_intercept=True,\n",
       "          intercept_scaling=1, max_iter=100, multi_class='ovr', n_jobs=1,\n",
       "          penalty='l2', random_state=None, solver='liblinear', tol=0.0001,\n",
       "          verbose=0, warm_start=False)"
      ]
     },
     "execution_count": 191,
     "metadata": {},
     "output_type": "execute_result"
    }
   ],
   "source": [
    "from sklearn.linear_model import LogisticRegression\n",
    "from sklearn import metrics\n",
    "X_train, X_test, y_train, y_test = train_test_split(X, y, test_size=0.3, random_state=0)\n",
    "logreg = LogisticRegression()\n",
    "logreg.fit(X_train, y_train)"
   ]
  },
  {
   "cell_type": "code",
   "execution_count": 192,
   "metadata": {},
   "outputs": [
    {
     "name": "stdout",
     "output_type": "stream",
     "text": [
      "Accuracy of logistic regression classifier on test set: 0.81\n"
     ]
    }
   ],
   "source": [
    "y_pred = logreg.predict(X_test)\n",
    "print('Accuracy of logistic regression classifier on test set: {:.2f}'.format(logreg.score(X_test, y_test)))"
   ]
  },
  {
   "cell_type": "code",
   "execution_count": 193,
   "metadata": {},
   "outputs": [
    {
     "name": "stdout",
     "output_type": "stream",
     "text": [
      "[[13270     0]\n",
      " [ 5114  8328]]\n"
     ]
    }
   ],
   "source": [
    "from sklearn.metrics import confusion_matrix\n",
    "confusion_matrix = confusion_matrix(y_test, y_pred)\n",
    "print(confusion_matrix)"
   ]
  },
  {
   "cell_type": "code",
   "execution_count": 194,
   "metadata": {},
   "outputs": [
    {
     "name": "stdout",
     "output_type": "stream",
     "text": [
      "             precision    recall  f1-score   support\n",
      "\n",
      "          0       0.72      1.00      0.84     13270\n",
      "          1       1.00      0.62      0.77     13442\n",
      "\n",
      "avg / total       0.86      0.81      0.80     26712\n",
      "\n"
     ]
    }
   ],
   "source": [
    "from sklearn.metrics import classification_report\n",
    "print(classification_report(y_test, y_pred))"
   ]
  },
  {
   "cell_type": "code",
   "execution_count": 195,
   "metadata": {},
   "outputs": [
    {
     "data": {
      "image/png": "[encoded data removed]",
      "text/plain": [
       "<Figure size 432x288 with 1 Axes>"
      ]
     },
     "metadata": {},
     "output_type": "display_data"
    }
   ],
   "source": [
    "from sklearn.metrics import roc_auc_score\n",
    "from sklearn.metrics import roc_curve\n",
    "logit_roc_auc = roc_auc_score(y_test, logreg.predict(X_test))\n",
    "fpr, tpr, thresholds = roc_curve(y_test, logreg.predict_proba(X_test)[:,1])\n",
    "plt.figure()\n",
    "plt.plot(fpr, tpr, label='Logistic Regression (area = %0.2f)' % logit_roc_auc)\n",
    "plt.plot([0, 1], [0, 1],'r--')\n",
    "plt.xlim([0.0, 1.0])\n",
    "plt.ylim([0.0, 1.05])\n",
    "plt.xlabel('False Positive Rate')\n",
    "plt.ylabel('True Positive Rate')\n",
    "plt.title('Receiver operating characteristic')\n",
    "plt.legend(loc=\"lower right\")\n",
    "plt.savefig('Log_ROC')\n",
    "plt.show()"
   ]
  },
  {
   "cell_type": "code",
   "execution_count": null,
   "metadata": {},
   "outputs": [],
   "source": []
  }
 ],
 "metadata": {
  "kernelspec": {
   "display_name": "Python 2",
   "language": "python",
   "name": "python2"
  },
  "language_info": {
   "codemirror_mode": {
    "name": "ipython",
    "version": 2
   },
   "file_extension": ".py",
   "mimetype": "text/x-python",
   "name": "python",
   "nbconvert_exporter": "python",
   "pygments_lexer": "ipython2",
   "version": "2.7.15"
  }
 },
 "nbformat": 4,
 "nbformat_minor": 2
}
